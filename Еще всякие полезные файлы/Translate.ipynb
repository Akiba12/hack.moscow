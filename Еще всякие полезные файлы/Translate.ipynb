{
 "cells": [
  {
   "cell_type": "code",
   "execution_count": 8,
   "metadata": {},
   "outputs": [],
   "source": [
    "import requests\n",
    "\n",
    "\n",
    "def translate (text, inLang, outLang):\n",
    "    url = \"https://translated-mymemory---translation-memory.p.rapidapi.com/api/get\"\n",
    "\n",
    "    querystring = {\"mt\":\"1\",\"onlyprivate\":\"0\",\"de\":\"a@b.c\",\"langpair\":(inLang + \"|\" + outLang),\"q\":text}\n",
    "\n",
    "    headers = {\n",
    "        'x-rapidapi-host': \"translated-mymemory---translation-memory.p.rapidapi.com\",\n",
    "        'x-rapidapi-key': \"01f0bc9e24msh47e994e9a7e83e2p190fcfjsna5c9e46b6e68\"\n",
    "        }\n",
    "    \n",
    "    response = requests.request(\"GET\", url, headers=headers, params=querystring)\n",
    "    print(response.status_code)\n",
    "    return response.text"
   ]
  },
  {
   "cell_type": "code",
   "execution_count": 21,
   "metadata": {},
   "outputs": [],
   "source": [
    "text = \"hello world\"\n",
    "inLang = \"en\"\n",
    "outLang = \"it\""
   ]
  },
  {
   "cell_type": "code",
   "execution_count": 22,
   "metadata": {},
   "outputs": [
    {
     "name": "stdout",
     "output_type": "stream",
     "text": [
      "200\n",
      "{\"responseData\":{\"translatedText\":\"ciao mondo\",\"match\":1},\"quotaFinished\":false,\"mtLangSupported\":null,\"responseDetails\":\"\",\"responseStatus\":200,\"responderId\":\"238\",\"exception_code\":null,\"matches\":[{\"id\":\"582578213\",\"segment\":\"hello world\",\"translation\":\"ciao mondo\",\"quality\":\"74\",\"reference\":null,\"usage-count\":97,\"subject\":\"All\",\"created-by\":\"MateCat\",\"last-updated-by\":\"MateCat\",\"create-date\":\"2018-10-26 04:31:13\",\"last-update-date\":\"2018-10-26 04:31:13\",\"match\":1},{\"id\":\"522206544\",\"segment\":\"hello world\",\"translation\":\"Hello World\",\"quality\":\"55\",\"reference\":null,\"usage-count\":1,\"subject\":\"All\",\"created-by\":\"MateCat\",\"last-updated-by\":\"MateCat\",\"create-date\":\"2012-03-22 05:29:12\",\"last-update-date\":\"2012-03-22 05:29:12\",\"match\":0.99}]}\n"
     ]
    }
   ],
   "source": [
    "print(translate(text, inLang, outLang))"
   ]
  },
  {
   "cell_type": "code",
   "execution_count": 30,
   "metadata": {},
   "outputs": [],
   "source": [
    "\n",
    "def translate_yandex(mytext, inLang, outLang):\n",
    "    import requests\n",
    "\n",
    "    URL = \"https://translate.yandex.net/api/v1.5/tr.json/translate\"  #это адрес для обращения к API \n",
    "    KEY = \"trnsl.1.1.20191026T081403Z.ef5de0c71b13b15a.3fb33a6b1dd7c9c6f937fb6ffb803e40d271a71e\" #Это ваш API ключ \n",
    "\n",
    "\n",
    "    params = {\n",
    "        \"key\": KEY,     \n",
    "        \"text\": mytext,\n",
    "        \"lang\": (inLang + '-' + outLang)  #Здесь мы указываем с какого языка на какой мы делаем переводим \n",
    "    }\n",
    "    response = requests.get(URL ,params=params)\n",
    "    return response.json()"
   ]
  },
  {
   "cell_type": "code",
   "execution_count": 31,
   "metadata": {},
   "outputs": [
    {
     "name": "stdout",
     "output_type": "stream",
     "text": [
      "Hi my friend\n"
     ]
    }
   ],
   "source": [
    "json = translate_me(\"Привет мой друг\") #Сюда мы вводим текст который нам нужно перевести (для удобности можно вынести в отдельную переменную\n",
    "print(''.join(json[\"text\"]))\n"
   ]
  },
  {
   "cell_type": "code",
   "execution_count": 34,
   "metadata": {},
   "outputs": [
    {
     "name": "stdout",
     "output_type": "stream",
     "text": [
      "{'code': 200, 'lang': 'en-ru', 'text': ['Привет мир']}\n"
     ]
    }
   ],
   "source": [
    "text = \"hello world\"\n",
    "inLang = \"en\"\n",
    "outLang = \"ru\"\n",
    "print (translate_yandex(text, inLang, outLang))"
   ]
  },
  {
   "cell_type": "code",
   "execution_count": null,
   "metadata": {},
   "outputs": [],
   "source": []
  }
 ],
 "metadata": {
  "kernelspec": {
   "display_name": "Python 3",
   "language": "python",
   "name": "python3"
  },
  "language_info": {
   "codemirror_mode": {
    "name": "ipython",
    "version": 3
   },
   "file_extension": ".py",
   "mimetype": "text/x-python",
   "name": "python",
   "nbconvert_exporter": "python",
   "pygments_lexer": "ipython3",
   "version": "3.7.4"
  }
 },
 "nbformat": 4,
 "nbformat_minor": 2
}
